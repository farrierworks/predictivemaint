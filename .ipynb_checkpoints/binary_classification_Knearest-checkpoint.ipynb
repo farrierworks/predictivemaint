{
 "cells": [
  {
   "cell_type": "code",
   "execution_count": null,
   "metadata": {},
   "outputs": [],
   "source": [
    "import numpy as np\n",
    "from sklearn import preprocessing, model_selection, neighbors\n",
    "import pandas as pd\n",
    "\n",
    "#L15\n",
    "import warnings\n",
    "from math import sqrt\n",
    "import random\n",
    "import matplotlib.pyplot as plt\n",
    "from matplotlib import style\n",
    "from collections import Counter\n",
    "style.use('fivethirtyeight')\n",
    "%matplotlib inline"
   ]
  },
  {
   "cell_type": "code",
   "execution_count": null,
   "metadata": {},
   "outputs": [],
   "source": [
    "data = pd.read_csv('input_df_2020-08-09-1936.csv', index_col=0)\n",
    "data.drop(['date','day_num'],axis=1,inplace=True)\n",
    "for i in range(len(data)):\n",
    "    if data['volt sdev 5'][i]==0:\n",
    "        data.drop(i, inplace=True)\n",
    "\n",
    "fails = data[data['fail']==1]\n",
    "no_fails = data[data['fail']==0]\n",
    "\n",
    "#\n",
    "rn=1\n",
    "#\n",
    "no_fails1 = sklearn.utils.shuffle(no_fails, random_state=rn).reset_index(drop=True)[0:691]\n",
    "df1 = no_fails1.append(fails).reset_index(drop=True)\n",
    "\n",
    "X = df1.drop(['fail'], axis =1)\n",
    "y = df1['fail']"
   ]
  }
 ],
 "metadata": {
  "kernelspec": {
   "display_name": "Python 3",
   "language": "python",
   "name": "python3"
  },
  "language_info": {
   "codemirror_mode": {
    "name": "ipython",
    "version": 3
   },
   "file_extension": ".py",
   "mimetype": "text/x-python",
   "name": "python",
   "nbconvert_exporter": "python",
   "pygments_lexer": "ipython3",
   "version": "3.6.8"
  }
 },
 "nbformat": 4,
 "nbformat_minor": 4
}
