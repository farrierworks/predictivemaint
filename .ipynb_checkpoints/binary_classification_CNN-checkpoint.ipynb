{
 "cells": [
  {
   "cell_type": "code",
   "execution_count": 1,
   "metadata": {},
   "outputs": [],
   "source": [
    "import pandas as pd\n",
    "import numpy as np\n",
    "import time\n",
    "import os\n",
    "\n",
    "import numpy as np\n",
    "import seaborn as sns\n",
    "import matplotlib.pyplot as plt\n",
    "import sklearn\n",
    "from sklearn.model_selection import train_test_split\n",
    "\n",
    "import tensorflow as tf\n",
    "from tensorflow import keras\n",
    "from tensorflow.keras import Sequential\n",
    "from tensorflow.keras.layers import Flatten, Dense, Dropout, BatchNormalization\n",
    "from tensorflow.keras.layers import Conv1D, MaxPool1D\n",
    "from tensorflow.keras.optimizers import Adam"
   ]
  },
  {
   "cell_type": "code",
   "execution_count": 2,
   "metadata": {},
   "outputs": [],
   "source": [
    "data = pd.read_csv('input_df_2020-08-09-1936.csv', index_col=0)\n",
    "data.drop(['date','day_num'],axis=1,inplace=True)\n",
    "for i in range(len(data)):\n",
    "    if data['volt sdev 5'][i]==0:\n",
    "        data.drop(i, inplace=True)"
   ]
  },
  {
   "cell_type": "code",
   "execution_count": 3,
   "metadata": {},
   "outputs": [],
   "source": [
    "rdn_ste=1\n",
    "\n",
    "\n",
    "fails = sklearn.utils.shuffle(data[data['fail']==1],random_state=rdn_ste).reset_index(drop=True)\n",
    "no_fails = sklearn.utils.shuffle(data[data['fail']==0], random_state=rdn_ste).reset_index(drop=True)\n",
    "\n",
    "cutoff_split = 620\n",
    "\n",
    "fails_test_train = fails[0:cutoff_split]\n",
    "fails_dev = fails[cutoff_split:].reset_index(drop=True)\n",
    "\n",
    "no_fails_test_train = no_fails[0:cutoff_split]\n",
    "no_fails_dev = no_fails[cutoff_split:].reset_index(drop=True)\n",
    "\n",
    "fails_dev.drop('fail',axis=1,inplace=True)\n",
    "\n",
    "no_fails_dev.drop('fail',axis=1,inplace=True)\n",
    "\n",
    "# no_fails = sklearn.utils.shuffle(no_fails, random_state=rdn_ste).reset_index(drop=True)[0:691]"
   ]
  },
  {
   "cell_type": "code",
   "execution_count": 4,
   "metadata": {},
   "outputs": [],
   "source": [
    "df_input = fails_test_train.append(no_fails_test_train).reset_index(drop=True)\n",
    "x = df_input.drop(['fail'], axis =1)\n",
    "y = df_input['fail']"
   ]
  },
  {
   "cell_type": "code",
   "execution_count": 6,
   "metadata": {},
   "outputs": [
    {
     "data": {
      "text/html": [
       "<div>\n",
       "<style scoped>\n",
       "    .dataframe tbody tr th:only-of-type {\n",
       "        vertical-align: middle;\n",
       "    }\n",
       "\n",
       "    .dataframe tbody tr th {\n",
       "        vertical-align: top;\n",
       "    }\n",
       "\n",
       "    .dataframe thead th {\n",
       "        text-align: right;\n",
       "    }\n",
       "</style>\n",
       "<table border=\"1\" class=\"dataframe\">\n",
       "  <thead>\n",
       "    <tr style=\"text-align: right;\">\n",
       "      <th></th>\n",
       "      <th>machineID</th>\n",
       "      <th>volt</th>\n",
       "      <th>rotate</th>\n",
       "      <th>pressure</th>\n",
       "      <th>vibration</th>\n",
       "      <th>volt sdev 5</th>\n",
       "      <th>rotate sdev 5</th>\n",
       "      <th>pressure sdev 5</th>\n",
       "      <th>vibration sdev 5</th>\n",
       "      <th>days_last_maint</th>\n",
       "      <th>days_last_fail</th>\n",
       "      <th>model</th>\n",
       "    </tr>\n",
       "  </thead>\n",
       "  <tbody>\n",
       "    <tr>\n",
       "      <td>0</td>\n",
       "      <td>98.0</td>\n",
       "      <td>0.775081</td>\n",
       "      <td>0.914211</td>\n",
       "      <td>0.654579</td>\n",
       "      <td>0.665918</td>\n",
       "      <td>0.019786</td>\n",
       "      <td>0.086701</td>\n",
       "      <td>0.023735</td>\n",
       "      <td>0.010511</td>\n",
       "      <td>15</td>\n",
       "      <td>14</td>\n",
       "      <td>2</td>\n",
       "    </tr>\n",
       "    <tr>\n",
       "      <td>1</td>\n",
       "      <td>79.0</td>\n",
       "      <td>0.773319</td>\n",
       "      <td>0.937633</td>\n",
       "      <td>0.661715</td>\n",
       "      <td>0.660426</td>\n",
       "      <td>0.009164</td>\n",
       "      <td>0.007308</td>\n",
       "      <td>0.016623</td>\n",
       "      <td>0.087766</td>\n",
       "      <td>15</td>\n",
       "      <td>44</td>\n",
       "      <td>3</td>\n",
       "    </tr>\n",
       "    <tr>\n",
       "      <td>2</td>\n",
       "      <td>99.0</td>\n",
       "      <td>0.772911</td>\n",
       "      <td>0.939725</td>\n",
       "      <td>0.654858</td>\n",
       "      <td>0.634829</td>\n",
       "      <td>0.008501</td>\n",
       "      <td>0.081745</td>\n",
       "      <td>0.018182</td>\n",
       "      <td>0.069644</td>\n",
       "      <td>15</td>\n",
       "      <td>14</td>\n",
       "      <td>1</td>\n",
       "    </tr>\n",
       "    <tr>\n",
       "      <td>3</td>\n",
       "      <td>5.0</td>\n",
       "      <td>0.779517</td>\n",
       "      <td>0.894839</td>\n",
       "      <td>0.672490</td>\n",
       "      <td>0.653469</td>\n",
       "      <td>0.012438</td>\n",
       "      <td>0.085977</td>\n",
       "      <td>0.014563</td>\n",
       "      <td>0.016819</td>\n",
       "      <td>15</td>\n",
       "      <td>74</td>\n",
       "      <td>3</td>\n",
       "    </tr>\n",
       "    <tr>\n",
       "      <td>4</td>\n",
       "      <td>13.0</td>\n",
       "      <td>0.758440</td>\n",
       "      <td>0.917730</td>\n",
       "      <td>0.675234</td>\n",
       "      <td>0.655921</td>\n",
       "      <td>0.008669</td>\n",
       "      <td>0.026893</td>\n",
       "      <td>0.165875</td>\n",
       "      <td>0.080331</td>\n",
       "      <td>15</td>\n",
       "      <td>100</td>\n",
       "      <td>1</td>\n",
       "    </tr>\n",
       "    <tr>\n",
       "      <td>...</td>\n",
       "      <td>...</td>\n",
       "      <td>...</td>\n",
       "      <td>...</td>\n",
       "      <td>...</td>\n",
       "      <td>...</td>\n",
       "      <td>...</td>\n",
       "      <td>...</td>\n",
       "      <td>...</td>\n",
       "      <td>...</td>\n",
       "      <td>...</td>\n",
       "      <td>...</td>\n",
       "      <td>...</td>\n",
       "    </tr>\n",
       "    <tr>\n",
       "      <td>1235</td>\n",
       "      <td>84.0</td>\n",
       "      <td>0.751602</td>\n",
       "      <td>0.808116</td>\n",
       "      <td>0.659505</td>\n",
       "      <td>0.653055</td>\n",
       "      <td>0.011898</td>\n",
       "      <td>0.012545</td>\n",
       "      <td>0.013900</td>\n",
       "      <td>0.012587</td>\n",
       "      <td>3</td>\n",
       "      <td>17</td>\n",
       "      <td>3</td>\n",
       "    </tr>\n",
       "    <tr>\n",
       "      <td>1236</td>\n",
       "      <td>31.0</td>\n",
       "      <td>0.762353</td>\n",
       "      <td>0.901185</td>\n",
       "      <td>0.646865</td>\n",
       "      <td>0.721776</td>\n",
       "      <td>0.017126</td>\n",
       "      <td>0.026213</td>\n",
       "      <td>0.020321</td>\n",
       "      <td>0.018039</td>\n",
       "      <td>4</td>\n",
       "      <td>33</td>\n",
       "      <td>1</td>\n",
       "    </tr>\n",
       "    <tr>\n",
       "      <td>1237</td>\n",
       "      <td>80.0</td>\n",
       "      <td>0.768546</td>\n",
       "      <td>0.896878</td>\n",
       "      <td>0.653201</td>\n",
       "      <td>0.667078</td>\n",
       "      <td>0.011062</td>\n",
       "      <td>0.013946</td>\n",
       "      <td>0.008169</td>\n",
       "      <td>0.025540</td>\n",
       "      <td>9</td>\n",
       "      <td>109</td>\n",
       "      <td>3</td>\n",
       "    </tr>\n",
       "    <tr>\n",
       "      <td>1238</td>\n",
       "      <td>79.0</td>\n",
       "      <td>0.779109</td>\n",
       "      <td>0.918376</td>\n",
       "      <td>0.745695</td>\n",
       "      <td>0.660994</td>\n",
       "      <td>0.010410</td>\n",
       "      <td>0.027791</td>\n",
       "      <td>0.071501</td>\n",
       "      <td>0.019388</td>\n",
       "      <td>10</td>\n",
       "      <td>9</td>\n",
       "      <td>3</td>\n",
       "    </tr>\n",
       "    <tr>\n",
       "      <td>1239</td>\n",
       "      <td>79.0</td>\n",
       "      <td>0.768339</td>\n",
       "      <td>0.922564</td>\n",
       "      <td>0.636950</td>\n",
       "      <td>0.660282</td>\n",
       "      <td>0.011042</td>\n",
       "      <td>0.010647</td>\n",
       "      <td>0.069312</td>\n",
       "      <td>0.016849</td>\n",
       "      <td>0</td>\n",
       "      <td>29</td>\n",
       "      <td>3</td>\n",
       "    </tr>\n",
       "  </tbody>\n",
       "</table>\n",
       "<p>1240 rows × 12 columns</p>\n",
       "</div>"
      ],
      "text/plain": [
       "      machineID      volt    rotate  pressure  vibration  volt sdev 5  \\\n",
       "0          98.0  0.775081  0.914211  0.654579   0.665918     0.019786   \n",
       "1          79.0  0.773319  0.937633  0.661715   0.660426     0.009164   \n",
       "2          99.0  0.772911  0.939725  0.654858   0.634829     0.008501   \n",
       "3           5.0  0.779517  0.894839  0.672490   0.653469     0.012438   \n",
       "4          13.0  0.758440  0.917730  0.675234   0.655921     0.008669   \n",
       "...         ...       ...       ...       ...        ...          ...   \n",
       "1235       84.0  0.751602  0.808116  0.659505   0.653055     0.011898   \n",
       "1236       31.0  0.762353  0.901185  0.646865   0.721776     0.017126   \n",
       "1237       80.0  0.768546  0.896878  0.653201   0.667078     0.011062   \n",
       "1238       79.0  0.779109  0.918376  0.745695   0.660994     0.010410   \n",
       "1239       79.0  0.768339  0.922564  0.636950   0.660282     0.011042   \n",
       "\n",
       "      rotate sdev 5  pressure sdev 5  vibration sdev 5  days_last_maint  \\\n",
       "0          0.086701         0.023735          0.010511               15   \n",
       "1          0.007308         0.016623          0.087766               15   \n",
       "2          0.081745         0.018182          0.069644               15   \n",
       "3          0.085977         0.014563          0.016819               15   \n",
       "4          0.026893         0.165875          0.080331               15   \n",
       "...             ...              ...               ...              ...   \n",
       "1235       0.012545         0.013900          0.012587                3   \n",
       "1236       0.026213         0.020321          0.018039                4   \n",
       "1237       0.013946         0.008169          0.025540                9   \n",
       "1238       0.027791         0.071501          0.019388               10   \n",
       "1239       0.010647         0.069312          0.016849                0   \n",
       "\n",
       "      days_last_fail  model  \n",
       "0                 14      2  \n",
       "1                 44      3  \n",
       "2                 14      1  \n",
       "3                 74      3  \n",
       "4                100      1  \n",
       "...              ...    ...  \n",
       "1235              17      3  \n",
       "1236              33      1  \n",
       "1237             109      3  \n",
       "1238               9      3  \n",
       "1239              29      3  \n",
       "\n",
       "[1240 rows x 12 columns]"
      ]
     },
     "execution_count": 6,
     "metadata": {},
     "output_type": "execute_result"
    }
   ],
   "source": [
    "x"
   ]
  },
  {
   "cell_type": "code",
   "execution_count": 6,
   "metadata": {},
   "outputs": [],
   "source": [
    "x_train, x_test, y_train, y_test = train_test_split(x, y, test_size = 0.15, random_state = 0, stratify = y)\n",
    "x_train = np.array(x_train)\n",
    "x_test = np.array(x_test)\n",
    "x_train = x_train.reshape(x_train.shape[0], x_train.shape[1], 1)\n",
    "x_test = x_test.reshape(x_test.shape[0], x_test.shape[1], 1)\n",
    "y_train = np.array(y_train)\n",
    "y_test = np.array(y_test)"
   ]
  },
  {
   "cell_type": "code",
   "execution_count": 7,
   "metadata": {},
   "outputs": [],
   "source": [
    "#build ANN\n",
    "model = Sequential()\n",
    "model.add(Conv1D(32, 1, activation='relu', input_shape = x_train[0].shape))\n",
    "model.add(BatchNormalization())\n",
    "model.add(Dropout(0.2))\n",
    "\n",
    "model.add(Conv1D(64, 1, activation='relu'))\n",
    "model.add(BatchNormalization())\n",
    "model.add(Dropout(0.25))\n",
    "\n",
    "model.add(Conv1D(128, 1, activation='relu'))\n",
    "model.add(BatchNormalization())\n",
    "model.add(Dropout(0.25))\n",
    "\n",
    "model.add(Flatten())\n",
    "model.add(Dense(128, activation='relu'))\n",
    "model.add(Dropout(0.25))\n",
    "\n",
    "model.add(Dense(1, activation='sigmoid'))"
   ]
  },
  {
   "cell_type": "code",
   "execution_count": 8,
   "metadata": {},
   "outputs": [
    {
     "name": "stdout",
     "output_type": "stream",
     "text": [
      "Train on 1054 samples, validate on 186 samples\n",
      "Epoch 1/20\n"
     ]
    },
    {
     "name": "stderr",
     "output_type": "stream",
     "text": [
      "WARNING: Logging before flag parsing goes to stderr.\n",
      "W0814 22:19:17.926160 14896 deprecation.py:323] From c:\\users\\olfoa\\appdata\\local\\programs\\python\\python36\\lib\\site-packages\\tensorflow_core\\python\\ops\\nn_impl.py:183: where (from tensorflow.python.ops.array_ops) is deprecated and will be removed in a future version.\n",
      "Instructions for updating:\n",
      "Use tf.where in 2.0, which has the same broadcast rule as np.where\n"
     ]
    },
    {
     "name": "stdout",
     "output_type": "stream",
     "text": [
      "1054/1054 [==============================] - 3s 3ms/sample - loss: 0.7585 - accuracy: 0.5930 - val_loss: 0.6522 - val_accuracy: 0.5161\n",
      "Epoch 2/20\n",
      "1054/1054 [==============================] - 0s 427us/sample - loss: 0.5720 - accuracy: 0.7135 - val_loss: 0.6546 - val_accuracy: 0.5323\n",
      "Epoch 3/20\n",
      "1054/1054 [==============================] - 1s 554us/sample - loss: 0.5191 - accuracy: 0.7391 - val_loss: 0.6734 - val_accuracy: 0.4839\n",
      "Epoch 4/20\n",
      "1054/1054 [==============================] - 1s 482us/sample - loss: 0.4725 - accuracy: 0.7780 - val_loss: 0.6143 - val_accuracy: 0.5161\n",
      "Epoch 5/20\n",
      "1054/1054 [==============================] - 1s 490us/sample - loss: 0.4258 - accuracy: 0.8169 - val_loss: 0.6036 - val_accuracy: 0.5108\n",
      "Epoch 6/20\n",
      "1054/1054 [==============================] - 1s 527us/sample - loss: 0.4075 - accuracy: 0.8188 - val_loss: 0.4036 - val_accuracy: 0.8441\n",
      "Epoch 7/20\n",
      "1054/1054 [==============================] - 1s 506us/sample - loss: 0.3888 - accuracy: 0.8397 - val_loss: 0.3709 - val_accuracy: 0.8548\n",
      "Epoch 8/20\n",
      "1054/1054 [==============================] - 0s 465us/sample - loss: 0.3890 - accuracy: 0.8321 - val_loss: 0.3471 - val_accuracy: 0.8763\n",
      "Epoch 9/20\n",
      "1054/1054 [==============================] - 0s 417us/sample - loss: 0.3753 - accuracy: 0.8387 - val_loss: 0.3381 - val_accuracy: 0.8763\n",
      "Epoch 10/20\n",
      "1054/1054 [==============================] - 1s 489us/sample - loss: 0.3936 - accuracy: 0.8321 - val_loss: 0.3470 - val_accuracy: 0.8763\n",
      "Epoch 11/20\n",
      "1054/1054 [==============================] - 1s 492us/sample - loss: 0.3635 - accuracy: 0.8444 - val_loss: 0.3400 - val_accuracy: 0.8763\n",
      "Epoch 12/20\n",
      "1054/1054 [==============================] - 1s 550us/sample - loss: 0.3504 - accuracy: 0.8605 - val_loss: 0.3256 - val_accuracy: 0.8763\n",
      "Epoch 13/20\n",
      "1054/1054 [==============================] - 1s 496us/sample - loss: 0.3600 - accuracy: 0.8387 - val_loss: 0.3746 - val_accuracy: 0.9355\n",
      "Epoch 14/20\n",
      "1054/1054 [==============================] - 1s 571us/sample - loss: 0.3526 - accuracy: 0.8586 - val_loss: 0.3507 - val_accuracy: 0.8978\n",
      "Epoch 15/20\n",
      "1054/1054 [==============================] - 0s 425us/sample - loss: 0.3439 - accuracy: 0.8596 - val_loss: 0.3171 - val_accuracy: 0.8978\n",
      "Epoch 16/20\n",
      "1054/1054 [==============================] - 1s 518us/sample - loss: 0.3568 - accuracy: 0.8491 - val_loss: 0.3680 - val_accuracy: 0.8495\n",
      "Epoch 17/20\n",
      "1054/1054 [==============================] - 0s 460us/sample - loss: 0.3492 - accuracy: 0.8548 - val_loss: 0.3172 - val_accuracy: 0.8925\n",
      "Epoch 18/20\n",
      "1054/1054 [==============================] - 1s 517us/sample - loss: 0.3576 - accuracy: 0.8416 - val_loss: 0.3480 - val_accuracy: 0.8763\n",
      "Epoch 19/20\n",
      "1054/1054 [==============================] - 1s 520us/sample - loss: 0.3679 - accuracy: 0.8454 - val_loss: 0.3805 - val_accuracy: 0.8441\n",
      "Epoch 20/20\n",
      "1054/1054 [==============================] - 1s 604us/sample - loss: 0.3360 - accuracy: 0.8577 - val_loss: 0.3137 - val_accuracy: 0.8763\n"
     ]
    }
   ],
   "source": [
    "hyparam ={'loss':'binary_crossentropy',\n",
    "         'opt':'Adam',\n",
    "         'epochs': 20,\n",
    "         'batch_size':20,\n",
    "         'validation_data':(x_test, y_test),\n",
    "         'lr':0.00075}\n",
    "\n",
    "\n",
    "epochs = hyparam['epochs']\n",
    "model.compile(optimizer = Adam(lr = hyparam['lr']), loss = hyparam['loss'], metrics = ['accuracy'])\n",
    "history = model.fit(x_train, y_train, epochs = epochs, validation_data = hyparam['validation_data'], verbose = 1, batch_size = hyparam['batch_size'])"
   ]
  },
  {
   "cell_type": "code",
   "execution_count": 28,
   "metadata": {},
   "outputs": [
    {
     "name": "stderr",
     "output_type": "stream",
     "text": [
      "W0814 22:37:46.507529 14896 deprecation.py:506] From c:\\users\\olfoa\\appdata\\local\\programs\\python\\python36\\lib\\site-packages\\tensorflow_core\\python\\ops\\resource_variable_ops.py:1781: calling BaseResourceVariable.__init__ (from tensorflow.python.ops.resource_variable_ops) with constraint is deprecated and will be removed in a future version.\n",
      "Instructions for updating:\n",
      "If using Keras pass *_constraint arguments to layers.\n"
     ]
    }
   ],
   "source": [
    "model.save('2020-08-14-2237-Conv1D.model')"
   ]
  },
  {
   "cell_type": "code",
   "execution_count": 11,
   "metadata": {},
   "outputs": [
    {
     "name": "stdout",
     "output_type": "stream",
     "text": [
      "0.0 error rate in dev sample (fail) of 71\n",
      "\n",
      "\n",
      "0.228 error rate in dev sample (no fail) of 500\n"
     ]
    }
   ],
   "source": [
    "n=0\n",
    "all_dev = len(fails_dev)\n",
    "for i in range(all_dev):\n",
    "    pred = model.predict(np.array(fails_dev[i:i+1]).reshape(1,12,1))[0][0]\n",
    "    if pred <0.50:\n",
    "        n+=1\n",
    "print(str(n/all_dev) + ' error rate in dev sample (fail) of ' + str(all_dev))\n",
    "\n",
    "print('\\n')\n",
    "\n",
    "n=0\n",
    "all_dev = 500\n",
    "for i in range(all_dev):\n",
    "    pred = model.predict(np.array(no_fails_dev[i:i+1]).reshape(1,12,1))[0][0]\n",
    "    \n",
    "    if pred >0.50:\n",
    "        n+=1\n",
    "print(str(n/all_dev) + ' error rate in dev sample (no fail) of ' + str(all_dev))\n",
    "\n"
   ]
  },
  {
   "cell_type": "code",
   "execution_count": 25,
   "metadata": {},
   "outputs": [
    {
     "name": "stdout",
     "output_type": "stream",
     "text": [
      "mean: 0.8001151\n",
      "stdev: 0.032954212\n",
      "max: 0.8663253\n",
      "min: 0.6609244\n"
     ]
    }
   ],
   "source": [
    "fail_preds = []\n",
    "all_dev = len(fails_dev)\n",
    "for i in range(all_dev):\n",
    "    pred = model.predict(np.array(fails_dev[i:i+1]).reshape(1,12,1))[0][0]\n",
    "    fail_preds.append(pred)\n",
    "print('mean: ' +str(np.mean(fail_preds)))\n",
    "print('stdev: '+str(np.std(fail_preds)))\n",
    "print('max: '+str(np.max(fail_preds)))\n",
    "print('min: '+str(np.min(fail_preds)))\n"
   ]
  },
  {
   "cell_type": "code",
   "execution_count": 27,
   "metadata": {},
   "outputs": [
    {
     "name": "stdout",
     "output_type": "stream",
     "text": [
      "mean: 0.19136044\n",
      "stdev: 0.31003287\n",
      "max: 0.9236339\n",
      "min: 6.5354726e-08\n"
     ]
    }
   ],
   "source": [
    "no_fail_preds = []\n",
    "all_dev =1000\n",
    "for i in range(all_dev):\n",
    "    pred = model.predict(np.array(no_fails_dev[i:i+1]).reshape(1,12,1))[0][0]\n",
    "    no_fail_preds.append(pred)\n",
    "print('mean: ' +str(np.mean(no_fail_preds)))\n",
    "print('stdev: '+str(np.std(no_fail_preds)))\n",
    "print('max: '+str(np.max(no_fail_preds)))\n",
    "print('min: '+str(np.min(no_fail_preds)))"
   ]
  },
  {
   "cell_type": "markdown",
   "metadata": {},
   "source": [
    "-The model is much better at predicting failure dates compared to no fail dates\n",
    "\n",
    "-It may be possible to improve its accuracy by training on more no fail examples, and there are plenty of them\n",
    "\n",
    "-the model returns the probability of failure and \"by default\" if P(failure) > 0.5, then model.predict() = 1 (which is fail). It is also possible to manually tweak this threshold"
   ]
  },
  {
   "cell_type": "code",
   "execution_count": 22,
   "metadata": {},
   "outputs": [
    {
     "name": "stdout",
     "output_type": "stream",
     "text": [
      "0.0 error rate in dev sample (fail) of 71\n",
      "\n",
      "\n",
      "0.166 error rate in dev sample (no fail) of 500\n"
     ]
    }
   ],
   "source": [
    "\n",
    "\n",
    "threshold = 0.60\n",
    "\n",
    "n=0\n",
    "all_dev = len(fails_dev)\n",
    "for i in range(all_dev):\n",
    "    pred = model.predict(np.array(fails_dev[i:i+1]).reshape(1,12,1))[0][0]\n",
    "    if pred <(1-threshold):\n",
    "        n+=1\n",
    "print(str(n/all_dev) + ' error rate in dev sample (fail) of ' + str(all_dev))\n",
    "\n",
    "print('\\n')\n",
    "\n",
    "n=0\n",
    "all_dev = 500\n",
    "for i in range(all_dev):\n",
    "    pred = model.predict(np.array(no_fails_dev[i:i+1]).reshape(1,12,1))[0][0]\n",
    "    \n",
    "    if pred >threshold:\n",
    "        n+=1\n",
    "print(str(n/all_dev) + ' error rate in dev sample (no fail) of ' + str(all_dev))\n"
   ]
  },
  {
   "cell_type": "code",
   "execution_count": 1,
   "metadata": {},
   "outputs": [
    {
     "data": {
      "text/plain": [
       "2"
      ]
     },
     "execution_count": 1,
     "metadata": {},
     "output_type": "execute_result"
    }
   ],
   "source": [
    "1+1"
   ]
  },
  {
   "cell_type": "code",
   "execution_count": null,
   "metadata": {},
   "outputs": [],
   "source": []
  }
 ],
 "metadata": {
  "kernelspec": {
   "display_name": "Python 3",
   "language": "python",
   "name": "python3"
  },
  "language_info": {
   "codemirror_mode": {
    "name": "ipython",
    "version": 3
   },
   "file_extension": ".py",
   "mimetype": "text/x-python",
   "name": "python",
   "nbconvert_exporter": "python",
   "pygments_lexer": "ipython3",
   "version": "3.6.8"
  }
 },
 "nbformat": 4,
 "nbformat_minor": 4
}
