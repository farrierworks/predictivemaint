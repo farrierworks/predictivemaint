{
 "cells": [
  {
   "cell_type": "code",
   "execution_count": null,
   "metadata": {},
   "outputs": [],
   "source": [
    "import numpy as np\n",
    "from sklearn import preprocessing, model_selection, neighbors\n",
    "import pandas as pd\n",
    "\n",
    "#L15\n",
    "import warnings\n",
    "from math import sqrt\n",
    "import random\n",
    "import matplotlib.pyplot as plt\n",
    "from matplotlib import style\n",
    "from collections import Counter\n",
    "style.use('fivethirtyeight')\n",
    "%matplotlib inline"
   ]
  },
  {
   "cell_type": "code",
   "execution_count": null,
   "metadata": {},
   "outputs": [],
   "source": [
    "data = pd.read_csv('input_df_2020-08-09-1936.csv', index_col=0)\n",
    "data.drop(['date','day_num'],axis=1,inplace=True)\n",
    "for i in range(len(data)):\n",
    "    if data['volt sdev 5'][i]==0:\n",
    "        data.drop(i, inplace=True)\n",
    "\n",
    "\n",
    "rdn_ste=1\n",
    "\n",
    "fails = sklearn.utils.shuffle(data[data['fail']==1],random_state=rdn_ste).reset_index(drop=True)\n",
    "no_fails = sklearn.utils.shuffle(data[data['fail']==0], random_state=rdn_ste).reset_index(drop=True)\n",
    "\n",
    "#split data into dev set and train/test data\n",
    "cutoff_split = 620\n",
    "\n",
    "fails_test_train = fails[0:cutoff_split]\n",
    "fails_dev = fails[cutoff_split:].reset_index(drop=True)\n",
    "\n",
    "no_fails_test_train = no_fails[0:cutoff_split]\n",
    "no_fails_dev = no_fails[cutoff_split:].reset_index(drop=True)\n",
    "\n",
    "fails_dev.drop('fail',axis=1,inplace=True)\n",
    "\n",
    "no_fails_dev.drop('fail',axis=1,inplace=True)\n",
    "\n",
    "# no_fails = sklearn.utils.shuffle(no_fails, random_state=rdn_ste).reset_index(drop=True)[0:691]"
   ]
  },
  {
   "cell_type": "code",
   "execution_count": null,
   "metadata": {},
   "outputs": [],
   "source": [
    "df_input = fails_test_train.append(no_fails_test_train).reset_index(drop=True)\n",
    "x = df_input.drop(['fail'], axis =1)\n",
    "y = df_input['fail']\n",
    "\n",
    "x_train, x_test, y_train, y_test = train_test_split(x, y, test_size = 0.15, random_state = 0, stratify = y)\n",
    "x_train = np.array(x_train)\n",
    "x_test = np.array(x_test)\n",
    "x_train = x_train.reshape(x_train.shape[0], x_train.shape[1], 1)\n",
    "x_test = x_test.reshape(x_test.shape[0], x_test.shape[1], 1)\n",
    "y_train = np.array(y_train)\n",
    "y_test = np.array(y_test)"
   ]
  }
 ],
 "metadata": {
  "kernelspec": {
   "display_name": "Python 3",
   "language": "python",
   "name": "python3"
  },
  "language_info": {
   "codemirror_mode": {
    "name": "ipython",
    "version": 3
   },
   "file_extension": ".py",
   "mimetype": "text/x-python",
   "name": "python",
   "nbconvert_exporter": "python",
   "pygments_lexer": "ipython3",
   "version": "3.6.8"
  }
 },
 "nbformat": 4,
 "nbformat_minor": 4
}
