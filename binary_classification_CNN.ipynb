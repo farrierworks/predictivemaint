{
 "cells": [
  {
   "cell_type": "code",
   "execution_count": 87,
   "metadata": {},
   "outputs": [],
   "source": [
    "import pandas as pd\n",
    "import numpy as np\n",
    "import time\n",
    "import os\n",
    "\n",
    "import numpy as np\n",
    "import seaborn as sns\n",
    "import matplotlib.pyplot as plt\n",
    "from sklearn.model_selection import train_test_split\n",
    "\n",
    "import tensorflow as tf\n",
    "from tensorflow import keras\n",
    "from tensorflow.keras import Sequential\n",
    "from tensorflow.keras.layers import Flatten, Dense, Dropout, BatchNormalization\n",
    "from tensorflow.keras.layers import Conv1D, MaxPool1D\n",
    "from tensorflow.keras.optimizers import Adam"
   ]
  },
  {
   "cell_type": "code",
   "execution_count": 67,
   "metadata": {},
   "outputs": [],
   "source": [
    "data = pd.read_csv('input_df_2020-08-09-1936.csv', index_col=0)\n",
    "data.drop(['date','day_num'],axis=1,inplace=True)\n",
    "for i in range(len(data)):\n",
    "    if data['volt sdev 5'][i]==0:\n",
    "        data.drop(i, inplace=True)"
   ]
  },
  {
   "cell_type": "code",
   "execution_count": 68,
   "metadata": {},
   "outputs": [],
   "source": [
    "fails = data[data['fail']==1]\n",
    "no_fails = data[data['fail']==0]\n",
    "\n",
    "rn=1\n",
    "no_fails1 = sklearn.utils.shuffle(no_fails, random_state=rn).reset_index(drop=True)[0:691]"
   ]
  },
  {
   "cell_type": "code",
   "execution_count": 77,
   "metadata": {},
   "outputs": [],
   "source": [
    "df1 = no_fails1.append(fails).reset_index(drop=True)"
   ]
  },
  {
   "cell_type": "code",
   "execution_count": 82,
   "metadata": {},
   "outputs": [],
   "source": [
    "\n",
    "x = df1.drop(['fail'], axis =1)\n",
    "y = df1['fail']"
   ]
  },
  {
   "cell_type": "code",
   "execution_count": 83,
   "metadata": {},
   "outputs": [
    {
     "data": {
      "text/html": [
       "<div>\n",
       "<style scoped>\n",
       "    .dataframe tbody tr th:only-of-type {\n",
       "        vertical-align: middle;\n",
       "    }\n",
       "\n",
       "    .dataframe tbody tr th {\n",
       "        vertical-align: top;\n",
       "    }\n",
       "\n",
       "    .dataframe thead th {\n",
       "        text-align: right;\n",
       "    }\n",
       "</style>\n",
       "<table border=\"1\" class=\"dataframe\">\n",
       "  <thead>\n",
       "    <tr style=\"text-align: right;\">\n",
       "      <th></th>\n",
       "      <th>machineID</th>\n",
       "      <th>volt</th>\n",
       "      <th>rotate</th>\n",
       "      <th>pressure</th>\n",
       "      <th>vibration</th>\n",
       "      <th>volt sdev 5</th>\n",
       "      <th>rotate sdev 5</th>\n",
       "      <th>pressure sdev 5</th>\n",
       "      <th>vibration sdev 5</th>\n",
       "      <th>days_last_maint</th>\n",
       "      <th>days_last_fail</th>\n",
       "      <th>model</th>\n",
       "    </tr>\n",
       "  </thead>\n",
       "  <tbody>\n",
       "    <tr>\n",
       "      <td>0</td>\n",
       "      <td>95.0</td>\n",
       "      <td>0.788659</td>\n",
       "      <td>0.917665</td>\n",
       "      <td>0.646675</td>\n",
       "      <td>0.678084</td>\n",
       "      <td>0.016724</td>\n",
       "      <td>0.017262</td>\n",
       "      <td>0.008176</td>\n",
       "      <td>0.026757</td>\n",
       "      <td>1</td>\n",
       "      <td>15</td>\n",
       "      <td>2</td>\n",
       "    </tr>\n",
       "    <tr>\n",
       "      <td>1</td>\n",
       "      <td>49.0</td>\n",
       "      <td>0.779832</td>\n",
       "      <td>0.911478</td>\n",
       "      <td>0.646189</td>\n",
       "      <td>0.637008</td>\n",
       "      <td>0.016221</td>\n",
       "      <td>0.026714</td>\n",
       "      <td>0.008056</td>\n",
       "      <td>0.013102</td>\n",
       "      <td>14</td>\n",
       "      <td>13</td>\n",
       "      <td>1</td>\n",
       "    </tr>\n",
       "    <tr>\n",
       "      <td>2</td>\n",
       "      <td>59.0</td>\n",
       "      <td>0.771652</td>\n",
       "      <td>0.898868</td>\n",
       "      <td>0.683414</td>\n",
       "      <td>0.653500</td>\n",
       "      <td>0.007466</td>\n",
       "      <td>0.008517</td>\n",
       "      <td>0.006281</td>\n",
       "      <td>0.014493</td>\n",
       "      <td>12</td>\n",
       "      <td>56</td>\n",
       "      <td>3</td>\n",
       "    </tr>\n",
       "    <tr>\n",
       "      <td>3</td>\n",
       "      <td>88.0</td>\n",
       "      <td>0.773620</td>\n",
       "      <td>0.925425</td>\n",
       "      <td>0.645974</td>\n",
       "      <td>0.641989</td>\n",
       "      <td>0.014443</td>\n",
       "      <td>0.028935</td>\n",
       "      <td>0.016470</td>\n",
       "      <td>0.018524</td>\n",
       "      <td>6</td>\n",
       "      <td>50</td>\n",
       "      <td>4</td>\n",
       "    </tr>\n",
       "    <tr>\n",
       "      <td>4</td>\n",
       "      <td>47.0</td>\n",
       "      <td>0.786385</td>\n",
       "      <td>0.909629</td>\n",
       "      <td>0.643498</td>\n",
       "      <td>0.629805</td>\n",
       "      <td>0.009246</td>\n",
       "      <td>0.063915</td>\n",
       "      <td>0.013324</td>\n",
       "      <td>0.081634</td>\n",
       "      <td>4</td>\n",
       "      <td>18</td>\n",
       "      <td>2</td>\n",
       "    </tr>\n",
       "    <tr>\n",
       "      <td>...</td>\n",
       "      <td>...</td>\n",
       "      <td>...</td>\n",
       "      <td>...</td>\n",
       "      <td>...</td>\n",
       "      <td>...</td>\n",
       "      <td>...</td>\n",
       "      <td>...</td>\n",
       "      <td>...</td>\n",
       "      <td>...</td>\n",
       "      <td>...</td>\n",
       "      <td>...</td>\n",
       "      <td>...</td>\n",
       "    </tr>\n",
       "    <tr>\n",
       "      <td>1377</td>\n",
       "      <td>99.0</td>\n",
       "      <td>0.782218</td>\n",
       "      <td>0.899631</td>\n",
       "      <td>0.649852</td>\n",
       "      <td>0.647956</td>\n",
       "      <td>0.015392</td>\n",
       "      <td>0.014248</td>\n",
       "      <td>0.079728</td>\n",
       "      <td>0.017007</td>\n",
       "      <td>15</td>\n",
       "      <td>29</td>\n",
       "      <td>1</td>\n",
       "    </tr>\n",
       "    <tr>\n",
       "      <td>1378</td>\n",
       "      <td>99.0</td>\n",
       "      <td>0.791816</td>\n",
       "      <td>0.862671</td>\n",
       "      <td>0.713363</td>\n",
       "      <td>0.647604</td>\n",
       "      <td>0.014788</td>\n",
       "      <td>0.081331</td>\n",
       "      <td>0.051971</td>\n",
       "      <td>0.093047</td>\n",
       "      <td>15</td>\n",
       "      <td>14</td>\n",
       "      <td>1</td>\n",
       "    </tr>\n",
       "    <tr>\n",
       "      <td>1379</td>\n",
       "      <td>100.0</td>\n",
       "      <td>0.774922</td>\n",
       "      <td>0.893963</td>\n",
       "      <td>0.655674</td>\n",
       "      <td>0.648252</td>\n",
       "      <td>0.047373</td>\n",
       "      <td>0.015139</td>\n",
       "      <td>0.010986</td>\n",
       "      <td>0.012486</td>\n",
       "      <td>15</td>\n",
       "      <td>42</td>\n",
       "      <td>4</td>\n",
       "    </tr>\n",
       "    <tr>\n",
       "      <td>1380</td>\n",
       "      <td>100.0</td>\n",
       "      <td>0.769071</td>\n",
       "      <td>0.911992</td>\n",
       "      <td>0.660314</td>\n",
       "      <td>0.675930</td>\n",
       "      <td>0.059436</td>\n",
       "      <td>0.027457</td>\n",
       "      <td>0.012343</td>\n",
       "      <td>0.031383</td>\n",
       "      <td>15</td>\n",
       "      <td>209</td>\n",
       "      <td>4</td>\n",
       "    </tr>\n",
       "    <tr>\n",
       "      <td>1381</td>\n",
       "      <td>100.0</td>\n",
       "      <td>0.764024</td>\n",
       "      <td>0.941853</td>\n",
       "      <td>0.642380</td>\n",
       "      <td>0.682325</td>\n",
       "      <td>0.010040</td>\n",
       "      <td>0.103284</td>\n",
       "      <td>0.015051</td>\n",
       "      <td>0.025563</td>\n",
       "      <td>30</td>\n",
       "      <td>89</td>\n",
       "      <td>4</td>\n",
       "    </tr>\n",
       "  </tbody>\n",
       "</table>\n",
       "<p>1382 rows × 12 columns</p>\n",
       "</div>"
      ],
      "text/plain": [
       "      machineID      volt    rotate  pressure  vibration  volt sdev 5  \\\n",
       "0          95.0  0.788659  0.917665  0.646675   0.678084     0.016724   \n",
       "1          49.0  0.779832  0.911478  0.646189   0.637008     0.016221   \n",
       "2          59.0  0.771652  0.898868  0.683414   0.653500     0.007466   \n",
       "3          88.0  0.773620  0.925425  0.645974   0.641989     0.014443   \n",
       "4          47.0  0.786385  0.909629  0.643498   0.629805     0.009246   \n",
       "...         ...       ...       ...       ...        ...          ...   \n",
       "1377       99.0  0.782218  0.899631  0.649852   0.647956     0.015392   \n",
       "1378       99.0  0.791816  0.862671  0.713363   0.647604     0.014788   \n",
       "1379      100.0  0.774922  0.893963  0.655674   0.648252     0.047373   \n",
       "1380      100.0  0.769071  0.911992  0.660314   0.675930     0.059436   \n",
       "1381      100.0  0.764024  0.941853  0.642380   0.682325     0.010040   \n",
       "\n",
       "      rotate sdev 5  pressure sdev 5  vibration sdev 5  days_last_maint  \\\n",
       "0          0.017262         0.008176          0.026757                1   \n",
       "1          0.026714         0.008056          0.013102               14   \n",
       "2          0.008517         0.006281          0.014493               12   \n",
       "3          0.028935         0.016470          0.018524                6   \n",
       "4          0.063915         0.013324          0.081634                4   \n",
       "...             ...              ...               ...              ...   \n",
       "1377       0.014248         0.079728          0.017007               15   \n",
       "1378       0.081331         0.051971          0.093047               15   \n",
       "1379       0.015139         0.010986          0.012486               15   \n",
       "1380       0.027457         0.012343          0.031383               15   \n",
       "1381       0.103284         0.015051          0.025563               30   \n",
       "\n",
       "      days_last_fail  model  \n",
       "0                 15      2  \n",
       "1                 13      1  \n",
       "2                 56      3  \n",
       "3                 50      4  \n",
       "4                 18      2  \n",
       "...              ...    ...  \n",
       "1377              29      1  \n",
       "1378              14      1  \n",
       "1379              42      4  \n",
       "1380             209      4  \n",
       "1381              89      4  \n",
       "\n",
       "[1382 rows x 12 columns]"
      ]
     },
     "execution_count": 83,
     "metadata": {},
     "output_type": "execute_result"
    }
   ],
   "source": [
    "x"
   ]
  },
  {
   "cell_type": "code",
   "execution_count": 84,
   "metadata": {},
   "outputs": [],
   "source": [
    "x_train, x_test, y_train, y_test = train_test_split(x, y, test_size = 0.15, random_state = 0, stratify = y)\n",
    "x_train = np.array(x_train)\n",
    "x_test = np.array(x_test)\n",
    "x_train = x_train.reshape(x_train.shape[0], x_train.shape[1], 1)\n",
    "x_test = x_test.reshape(x_test.shape[0], x_test.shape[1], 1)\n",
    "y_train = np.array(y_train)\n",
    "y_test = np.array(y_test)"
   ]
  },
  {
   "cell_type": "code",
   "execution_count": 136,
   "metadata": {},
   "outputs": [],
   "source": [
    "#build ANN\n",
    "\n",
    "model = Sequential()\n",
    "model.add(Conv1D(32, 1, activation='relu', input_shape = x_train[0].shape))\n",
    "model.add(BatchNormalization())\n",
    "model.add(Dropout(0.2))\n",
    "\n",
    "model.add(Conv1D(64, 1, activation='relu'))\n",
    "model.add(BatchNormalization())\n",
    "model.add(Dropout(0.5))\n",
    "\n",
    "model.add(Flatten())\n",
    "model.add(Dense(64, activation='relu'))\n",
    "model.add(Dropout(0.25))\n",
    "\n",
    "model.add(Dense(1, activation='sigmoid'))\n",
    "\n",
    "from tensorflow.keras.optimizers import Adam\n",
    "model.compile(optimizer = Adam(lr = 0.001), loss = 'binary_crossentropy', metrics = ['accuracy'])"
   ]
  },
  {
   "cell_type": "code",
   "execution_count": 137,
   "metadata": {},
   "outputs": [
    {
     "name": "stdout",
     "output_type": "stream",
     "text": [
      "Train on 1174 samples, validate on 208 samples\n",
      "Epoch 1/10\n",
      "1174/1174 [==============================] - 2s 1ms/sample - loss: 0.7850 - accuracy: 0.5843 - val_loss: 0.5812 - val_accuracy: 0.8029\n",
      "Epoch 2/10\n",
      "1174/1174 [==============================] - 0s 200us/sample - loss: 0.6438 - accuracy: 0.6576 - val_loss: 0.6437 - val_accuracy: 0.6154\n",
      "Epoch 3/10\n",
      "1174/1174 [==============================] - 0s 172us/sample - loss: 0.5753 - accuracy: 0.7155 - val_loss: 0.5913 - val_accuracy: 0.7308\n",
      "Epoch 4/10\n",
      "1174/1174 [==============================] - 0s 164us/sample - loss: 0.5122 - accuracy: 0.7624 - val_loss: 0.5300 - val_accuracy: 0.8269\n",
      "Epoch 5/10\n",
      "1174/1174 [==============================] - 0s 196us/sample - loss: 0.4937 - accuracy: 0.7658 - val_loss: 0.4912 - val_accuracy: 0.8462\n",
      "Epoch 6/10\n",
      "1174/1174 [==============================] - 0s 178us/sample - loss: 0.4807 - accuracy: 0.7760 - val_loss: 0.4532 - val_accuracy: 0.8221\n",
      "Epoch 7/10\n",
      "1174/1174 [==============================] - 0s 181us/sample - loss: 0.4611 - accuracy: 0.7734 - val_loss: 0.4159 - val_accuracy: 0.8894\n",
      "Epoch 8/10\n",
      "1174/1174 [==============================] - ETA: 0s - loss: 0.4438 - accuracy: 0.79 - 0s 144us/sample - loss: 0.4356 - accuracy: 0.8024 - val_loss: 0.4069 - val_accuracy: 0.8510\n",
      "Epoch 9/10\n",
      "1174/1174 [==============================] - 0s 147us/sample - loss: 0.4549 - accuracy: 0.7845 - val_loss: 0.3928 - val_accuracy: 0.9038\n",
      "Epoch 10/10\n",
      "1174/1174 [==============================] - 0s 183us/sample - loss: 0.4091 - accuracy: 0.8160 - val_loss: 0.3704 - val_accuracy: 0.8846\n"
     ]
    }
   ],
   "source": [
    "epochs = 10\n",
    "history = model.fit(x_train, y_train, epochs = epochs, validation_data = (x_test, y_test), verbose = 1)"
   ]
  },
  {
   "cell_type": "code",
   "execution_count": 95,
   "metadata": {},
   "outputs": [
    {
     "data": {
      "text/plain": [
       "(12, 1)"
      ]
     },
     "execution_count": 95,
     "metadata": {},
     "output_type": "execute_result"
    }
   ],
   "source": []
  },
  {
   "cell_type": "code",
   "execution_count": 139,
   "metadata": {},
   "outputs": [],
   "source": [
    "no_fails1_dev = sklearn.utils.shuffle(no_fails, random_state=rn).reset_index(drop=True)[692:720].reset_index(drop=True)\n",
    "x1_dev = no_fails1_dev.drop(['fail'], axis=1)"
   ]
  },
  {
   "cell_type": "code",
   "execution_count": 150,
   "metadata": {},
   "outputs": [
    {
     "data": {
      "text/plain": [
       "array([[0.68880457]], dtype=float32)"
      ]
     },
     "execution_count": 150,
     "metadata": {},
     "output_type": "execute_result"
    }
   ],
   "source": [
    "#verify on devset\n",
    "i=10\n",
    "input1 = np.array(x1_dev[i:i+1])\n",
    "input11 = input1.reshape(12,1)\n",
    "model.predict(input11.reshape(1,12,1))"
   ]
  },
  {
   "cell_type": "code",
   "execution_count": 163,
   "metadata": {},
   "outputs": [
    {
     "data": {
      "text/plain": [
       "array([[0.69112927]], dtype=float32)"
      ]
     },
     "execution_count": 163,
     "metadata": {},
     "output_type": "execute_result"
    }
   ],
   "source": [
    "#verifying on the fails\n",
    "#this is extremely flawed as it is inputting data that was in the test or train set. \n",
    "#need to remove some data from fails train / test to make dev set\n",
    "\n",
    "i=5\n",
    "x2_dev = fails.reset_index(drop=True).drop(['fail'],axis=1)[i:i+1]\n",
    "input2 = np.array(x2_dev)\n",
    "input22 = input2.reshape(12,1)\n",
    "model.predict(input22.reshape(1,12,1))"
   ]
  },
  {
   "cell_type": "code",
   "execution_count": null,
   "metadata": {},
   "outputs": [],
   "source": []
  },
  {
   "cell_type": "code",
   "execution_count": null,
   "metadata": {},
   "outputs": [],
   "source": []
  }
 ],
 "metadata": {
  "kernelspec": {
   "display_name": "Python 3",
   "language": "python",
   "name": "python3"
  },
  "language_info": {
   "codemirror_mode": {
    "name": "ipython",
    "version": 3
   },
   "file_extension": ".py",
   "mimetype": "text/x-python",
   "name": "python",
   "nbconvert_exporter": "python",
   "pygments_lexer": "ipython3",
   "version": "3.6.8"
  }
 },
 "nbformat": 4,
 "nbformat_minor": 4
}
