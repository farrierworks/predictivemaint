{
 "cells": [
  {
   "cell_type": "code",
   "execution_count": null,
   "metadata": {},
   "outputs": [],
   "source": [
    "import azureml\n",
    "from azureml import Workspace\n",
    "#get data from azureml"
   ]
  },
  {
   "cell_type": "code",
   "execution_count": null,
   "metadata": {},
   "outputs": [],
   "source": [
    "#' @Author: Yogi\n",
    "def get_data(workspace_id, authorization_token,experiment_token, node_id, port_name = 'Results dataset', data_type_id='GenericCSV'):\n",
    "    ws = Workspace(\n",
    "        workspace_id = workspace_id,\n",
    "        authorization_token = authorization_token,\n",
    "        endpoint = 'https://studioapi.azureml.net') #less likely to change\n",
    "    experiment = ws.experiments[experiment_token]\n",
    "    \n",
    "    ds = experiment.get_intermediate_dataset(\n",
    "        node_id = node_id,\n",
    "        port_name = port_name,\n",
    "        data_type_id = data_type_id)\n",
    "    ds = ds.to_dataframe()\n",
    "    return ds"
   ]
  }
 ],
 "metadata": {
  "kernelspec": {
   "display_name": "Python 3",
   "language": "python",
   "name": "python3"
  },
  "language_info": {
   "codemirror_mode": {
    "name": "ipython",
    "version": 3
   },
   "file_extension": ".py",
   "mimetype": "text/x-python",
   "name": "python",
   "nbconvert_exporter": "python",
   "pygments_lexer": "ipython3",
   "version": "3.7.6"
  }
 },
 "nbformat": 4,
 "nbformat_minor": 4
}
